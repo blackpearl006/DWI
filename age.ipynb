{
 "cells": [
  {
   "cell_type": "code",
   "execution_count": 2,
   "metadata": {},
   "outputs": [],
   "source": [
    "from data import *\n",
    "from models import *\n",
    "from utils import *\n",
    "\n",
    "from sklearn.metrics import f1_score, accuracy_score\n",
    "\n",
    "MAE_DIR = '/home/neelamlab/ninad/MAE'\n",
    "ROOT_DIR = '/data/ninad/DATASET_linear'\n",
    "LABEL_DIR = f'/data/ninad/Metadata'\n",
    "RESULT_DIR = f'{MAE_DIR}/results'\n",
    "LOG_DIR = f'{MAE_DIR}/logs/'\n",
    "TASK = 'regression'\n",
    "CDRGLOB = 0.0\n",
    "ONLY_3T_SCANS = 0.001\n",
    "\n",
    "NP_SEED = 42\n",
    "TORCH_SEED = 36\n",
    "np.random.seed(NP_SEED)\n",
    "torch.manual_seed(TORCH_SEED)\n",
    "\n",
    "LOGGER = setup_logger(logs_dir=LOG_DIR)"
   ]
  },
  {
   "cell_type": "code",
   "execution_count": 3,
   "metadata": {},
   "outputs": [
    {
     "name": "stdout",
     "output_type": "stream",
     "text": [
      "SFCN_seed_12\n",
      "results/SFCN_seed_12/fold_0/test_predictions_TEST_DATA.csv\n",
      "results/SFCN_seed_12/fold_1/test_predictions_TEST_DATA.csv\n",
      "results/SFCN_seed_12/fold_2/test_predictions_TEST_DATA.csv\n",
      "results/SFCN_seed_12/fold_3/test_predictions_TEST_DATA.csv\n",
      "results/SFCN_seed_12/fold_4/test_predictions_TEST_DATA.csv\n",
      "SFCN_seed_15\n",
      "results/SFCN_seed_15/fold_0/test_predictions_TEST_DATA.csv\n",
      "results/SFCN_seed_15/fold_1/test_predictions_TEST_DATA.csv\n",
      "results/SFCN_seed_15/fold_2/test_predictions_TEST_DATA.csv\n",
      "results/SFCN_seed_15/fold_3/test_predictions_TEST_DATA.csv\n",
      "results/SFCN_seed_15/fold_4/test_predictions_TEST_DATA.csv\n",
      "SFCN2_seed_20\n",
      "results/SFCN2_seed_20/fold_0/test_predictions_TEST_DATA.csv\n",
      "results/SFCN2_seed_20/fold_1/test_predictions_TEST_DATA.csv\n",
      "results/SFCN2_seed_20/fold_2/test_predictions_TEST_DATA.csv\n",
      "results/SFCN2_seed_20/fold_3/test_predictions_TEST_DATA.csv\n",
      "results/SFCN2_seed_20/fold_4/test_predictions_TEST_DATA.csv\n",
      "SFCN_seed_11\n",
      "results/SFCN_seed_11/fold_0/test_predictions_TEST_DATA.csv\n",
      "results/SFCN_seed_11/fold_1/test_predictions_TEST_DATA.csv\n",
      "results/SFCN_seed_11/fold_2/test_predictions_TEST_DATA.csv\n",
      "results/SFCN_seed_11/fold_3/test_predictions_TEST_DATA.csv\n",
      "results/SFCN_seed_11/fold_4/test_predictions_TEST_DATA.csv\n",
      "SFCN_seed_14\n",
      "results/SFCN_seed_14/fold_0/test_predictions_TEST_DATA.csv\n",
      "results/SFCN_seed_14/fold_1/test_predictions_TEST_DATA.csv\n",
      "results/SFCN_seed_14/fold_2/test_predictions_TEST_DATA.csv\n",
      "results/SFCN_seed_14/fold_3/test_predictions_TEST_DATA.csv\n",
      "results/SFCN_seed_14/fold_4/test_predictions_TEST_DATA.csv\n",
      "SFCN_seed_13\n",
      "results/SFCN_seed_13/fold_0/test_predictions_TEST_DATA.csv\n",
      "results/SFCN_seed_13/fold_1/test_predictions_TEST_DATA.csv\n",
      "results/SFCN_seed_13/fold_2/test_predictions_TEST_DATA.csv\n",
      "results/SFCN_seed_13/fold_3/test_predictions_TEST_DATA.csv\n",
      "results/SFCN_seed_13/fold_4/test_predictions_TEST_DATA.csv\n"
     ]
    }
   ],
   "source": [
    "RESULT_DIR = 'results'\n",
    "filename = 'test_predictions_TEST_DATA.csv'\n",
    "runmetrics = {}\n",
    "age_threshold = 0\n",
    "MIN_SEED = 11\n",
    "MAX_SEED = 20\n",
    "SKIP_SEED = 21\n",
    "for run in os.listdir(RESULT_DIR):\n",
    "    if run[:4]=='SFCN' and MIN_SEED<=int(run.split('_')[-1])<=MAX_SEED and int(run.split('_')[-1])!=SKIP_SEED:\n",
    "        print(run)\n",
    "        for fold in range(5):\n",
    "            print(os.path.join(RESULT_DIR, run, f'fold_{fold}',filename))\n",
    "            # runmetrics[run] = {}\n",
    "            if os.path.exists(os.path.join(RESULT_DIR, run, f'fold_{fold}',filename)):\n",
    "                true, predicted = [],[]\n",
    "                for dataset_name, _, i,j in pd.read_csv(os.path.join(RESULT_DIR, run, f'fold_{fold}', filename)).values:\n",
    "                    if True: #dataset_name == 'CBR': #dataset_name != 'CBR' and dataset_name != 'LASI': #dataset_name == 'CBR': #\n",
    "                        if i < age_threshold:\n",
    "                            continue\n",
    "                        true.append(i)\n",
    "                        predicted.append(j)\n",
    "                # plot_brain_age_delta(true, predicted, name=f'{run} TEST')\n",
    "                runmetrics[f'{run}_f{fold}'] = {}\n",
    "                runmetrics[f'{run}_f{fold}']['F1'] = f1_score(true,predicted)\n",
    "                runmetrics[f'{run}_f{fold}']['Acc'] = accuracy_score(true,predicted)"
   ]
  },
  {
   "cell_type": "code",
   "execution_count": 4,
   "metadata": {},
   "outputs": [
    {
     "data": {
      "text/html": [
       "<div>\n",
       "<style scoped>\n",
       "    .dataframe tbody tr th:only-of-type {\n",
       "        vertical-align: middle;\n",
       "    }\n",
       "\n",
       "    .dataframe tbody tr th {\n",
       "        vertical-align: top;\n",
       "    }\n",
       "\n",
       "    .dataframe thead th {\n",
       "        text-align: right;\n",
       "    }\n",
       "</style>\n",
       "<table border=\"1\" class=\"dataframe\">\n",
       "  <thead>\n",
       "    <tr style=\"text-align: right;\">\n",
       "      <th></th>\n",
       "      <th>F1</th>\n",
       "      <th>Acc</th>\n",
       "    </tr>\n",
       "  </thead>\n",
       "  <tbody>\n",
       "    <tr>\n",
       "      <th>SFCN_seed_12_f0</th>\n",
       "      <td>0.945813</td>\n",
       "      <td>0.937143</td>\n",
       "    </tr>\n",
       "    <tr>\n",
       "      <th>SFCN_seed_12_f1</th>\n",
       "      <td>0.948454</td>\n",
       "      <td>0.942857</td>\n",
       "    </tr>\n",
       "    <tr>\n",
       "      <th>SFCN_seed_12_f2</th>\n",
       "      <td>0.943005</td>\n",
       "      <td>0.937143</td>\n",
       "    </tr>\n",
       "    <tr>\n",
       "      <th>SFCN_seed_12_f3</th>\n",
       "      <td>0.942408</td>\n",
       "      <td>0.937143</td>\n",
       "    </tr>\n",
       "    <tr>\n",
       "      <th>SFCN_seed_12_f4</th>\n",
       "      <td>0.940594</td>\n",
       "      <td>0.931429</td>\n",
       "    </tr>\n",
       "  </tbody>\n",
       "</table>\n",
       "</div>"
      ],
      "text/plain": [
       "                       F1       Acc\n",
       "SFCN_seed_12_f0  0.945813  0.937143\n",
       "SFCN_seed_12_f1  0.948454  0.942857\n",
       "SFCN_seed_12_f2  0.943005  0.937143\n",
       "SFCN_seed_12_f3  0.942408  0.937143\n",
       "SFCN_seed_12_f4  0.940594  0.931429"
      ]
     },
     "execution_count": 4,
     "metadata": {},
     "output_type": "execute_result"
    }
   ],
   "source": [
    "df = pd.DataFrame.from_dict(runmetrics).T\n",
    "mean_values = df.mean().round(4)\n",
    "std_values = df.std().round(4)\n",
    "mean_std = mean_values.astype(str) + \" ± \" + std_values.astype(str)\n",
    "# df.loc['mean ± std'] = mean_std\n",
    "df.head()"
   ]
  },
  {
   "cell_type": "code",
   "execution_count": 5,
   "metadata": {},
   "outputs": [
    {
     "name": "stdout",
     "output_type": "stream",
     "text": [
      "                F1_mean    F1_std  Acc_mean   Acc_std\n",
      "Seed                                                 \n",
      "SFCN2_seed_20  0.870968       NaN  0.862857       NaN\n",
      "SFCN_seed_11   0.927080  0.018121  0.923429  0.015959\n",
      "SFCN_seed_12   0.944055  0.003091  0.937143  0.004041\n",
      "SFCN_seed_13   0.942291  0.005407  0.934857  0.005111\n",
      "SFCN_seed_14   0.907314  0.007806  0.890286  0.012388\n",
      "SFCN_seed_15   0.915475  0.010108  0.902857  0.014569\n"
     ]
    }
   ],
   "source": [
    "df['Seed'] = df.index.to_series().apply(lambda x: '_'.join(x.split('_')[:3]))\n",
    "summary_df = df.groupby('Seed').agg({'F1': ['mean', 'std'], 'Acc': ['mean', 'std']})\n",
    "summary_df.columns = ['_'.join(col) for col in summary_df.columns]\n",
    "print(summary_df)"
   ]
  }
 ],
 "metadata": {
  "kernelspec": {
   "display_name": "ninad",
   "language": "python",
   "name": "python3"
  },
  "language_info": {
   "codemirror_mode": {
    "name": "ipython",
    "version": 3
   },
   "file_extension": ".py",
   "mimetype": "text/x-python",
   "name": "python",
   "nbconvert_exporter": "python",
   "pygments_lexer": "ipython3",
   "version": "3.12.5"
  }
 },
 "nbformat": 4,
 "nbformat_minor": 2
}
