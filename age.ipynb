{
 "cells": [
  {
   "cell_type": "code",
   "execution_count": 8,
   "metadata": {},
   "outputs": [],
   "source": [
    "from data import *\n",
    "from models import *\n",
    "from utils import *\n",
    "\n",
    "from sklearn.metrics import f1_score, accuracy_score\n",
    "\n",
    "MAE_DIR = '/home/neelamlab/ninad/MAE'\n",
    "ROOT_DIR = '/data/ninad/DATASET_linear'\n",
    "LABEL_DIR = f'/data/ninad/Metadata'\n",
    "RESULT_DIR = f'{MAE_DIR}/results'\n",
    "LOG_DIR = f'{MAE_DIR}/logs/'\n",
    "TASK = 'regression'\n",
    "CDRGLOB = 0.0\n",
    "ONLY_3T_SCANS = 0.001\n",
    "\n",
    "NP_SEED = 42\n",
    "TORCH_SEED = 36\n",
    "np.random.seed(NP_SEED)\n",
    "torch.manual_seed(TORCH_SEED)\n",
    "\n",
    "LOGGER = setup_logger(logs_dir=LOG_DIR)"
   ]
  },
  {
   "cell_type": "code",
   "execution_count": 4,
   "metadata": {},
   "outputs": [],
   "source": [
    "def plot_brain_age_delta(true,predicted,save=False,name='some_name'):\n",
    "    max_val=int(max(max(true),max(predicted)))\n",
    "    min_val=int(min(min(true),min(predicted)))\n",
    "    if not max_val : max_val = 1\n",
    "    print('MAX',max_val,\"MIN:\",min_val)\n",
    "    max_val *= 100\n",
    "    min_val *= 100\n",
    "    true = np.array(true)*100\n",
    "    predicted = np.array(predicted)*100\n",
    "    plt.plot(np.linspace(min_val, max_val), np.linspace(min_val, max_val), color='red', linestyle='--', label='y=x')\n",
    "    N = len(true)\n",
    "    mae = mean_absolute_error(true,predicted)\n",
    "    r2 = r2_score(true,predicted)\n",
    "    plt.title(f'Brain age delta: {name}, MAE:{mae:.4f}, R2:{r2:.4f} for N={N}')\n",
    "    plt.scatter(np.array(true),np.array(predicted), alpha=0.5, edgecolors='k')\n",
    "    plt.ylim(min_val,max_val)\n",
    "    plt.xlim(min_val,max_val)\n",
    "    plt.ylabel('Predicted')\n",
    "    plt.xlabel('True')\n",
    "    if save: plt.savefig(f'{name}.png',dpi=400)\n",
    "    else: plt.show()"
   ]
  },
  {
   "cell_type": "code",
   "execution_count": 10,
   "metadata": {},
   "outputs": [
    {
     "name": "stdout",
     "output_type": "stream",
     "text": [
      "SFCN_seed_4\n",
      "results/SFCN_seed_4/fold_0/test_predictions_TEST_DATA.csv\n",
      "results/SFCN_seed_4/fold_1/test_predictions_TEST_DATA.csv\n",
      "results/SFCN_seed_4/fold_2/test_predictions_TEST_DATA.csv\n",
      "results/SFCN_seed_4/fold_3/test_predictions_TEST_DATA.csv\n",
      "results/SFCN_seed_4/fold_4/test_predictions_TEST_DATA.csv\n",
      "SFCN_seed_6\n",
      "results/SFCN_seed_6/fold_0/test_predictions_TEST_DATA.csv\n",
      "results/SFCN_seed_6/fold_1/test_predictions_TEST_DATA.csv\n",
      "results/SFCN_seed_6/fold_2/test_predictions_TEST_DATA.csv\n",
      "results/SFCN_seed_6/fold_3/test_predictions_TEST_DATA.csv\n",
      "results/SFCN_seed_6/fold_4/test_predictions_TEST_DATA.csv\n",
      "SFCN_seed_3\n",
      "results/SFCN_seed_3/fold_0/test_predictions_TEST_DATA.csv\n",
      "results/SFCN_seed_3/fold_1/test_predictions_TEST_DATA.csv\n",
      "results/SFCN_seed_3/fold_2/test_predictions_TEST_DATA.csv\n",
      "results/SFCN_seed_3/fold_3/test_predictions_TEST_DATA.csv\n",
      "results/SFCN_seed_3/fold_4/test_predictions_TEST_DATA.csv\n",
      "SFCN_seed_1\n",
      "results/SFCN_seed_1/fold_0/test_predictions_TEST_DATA.csv\n",
      "results/SFCN_seed_1/fold_1/test_predictions_TEST_DATA.csv\n",
      "results/SFCN_seed_1/fold_2/test_predictions_TEST_DATA.csv\n",
      "results/SFCN_seed_1/fold_3/test_predictions_TEST_DATA.csv\n",
      "results/SFCN_seed_1/fold_4/test_predictions_TEST_DATA.csv\n",
      "SFCN_seed_2\n",
      "results/SFCN_seed_2/fold_0/test_predictions_TEST_DATA.csv\n",
      "results/SFCN_seed_2/fold_1/test_predictions_TEST_DATA.csv\n",
      "results/SFCN_seed_2/fold_2/test_predictions_TEST_DATA.csv\n",
      "results/SFCN_seed_2/fold_3/test_predictions_TEST_DATA.csv\n",
      "results/SFCN_seed_2/fold_4/test_predictions_TEST_DATA.csv\n"
     ]
    }
   ],
   "source": [
    "RESULT_DIR = 'results'\n",
    "filename = 'test_predictions_TEST_DATA.csv'\n",
    "runmetrics = {}\n",
    "age_threshold = 0\n",
    "for run in os.listdir(RESULT_DIR):\n",
    "    if run[:4]=='SFCN': # and 100<=int(run.split('_')[-1])<=107 and int(run.split('_')[-1])!=89:\n",
    "        print(run)\n",
    "        for fold in range(5):\n",
    "            print(os.path.join(RESULT_DIR, run, f'fold_{fold}',filename))\n",
    "            # runmetrics[run] = {}\n",
    "            if os.path.exists(os.path.join(RESULT_DIR, run, f'fold_{fold}',filename)):\n",
    "                true, predicted = [],[]\n",
    "                for dataset_name, _, i,j in pd.read_csv(os.path.join(RESULT_DIR, run, f'fold_{fold}', filename)).values:\n",
    "                    if True: #dataset_name == 'CBR': #dataset_name != 'CBR' and dataset_name != 'LASI': #dataset_name == 'CBR': #\n",
    "                        if i < age_threshold:\n",
    "                            continue\n",
    "                        true.append(i)\n",
    "                        predicted.append(j)\n",
    "                # plot_brain_age_delta(true, predicted, name=f'{run} TEST')\n",
    "                runmetrics[f'{run}_f{fold}'] = {}\n",
    "                runmetrics[f'{run}_f{fold}']['F1'] = f1_score(true,predicted)\n",
    "                runmetrics[f'{run}_f{fold}']['Acc'] = accuracy_score(true,predicted)"
   ]
  },
  {
   "cell_type": "code",
   "execution_count": 11,
   "metadata": {},
   "outputs": [
    {
     "data": {
      "text/html": [
       "<div>\n",
       "<style scoped>\n",
       "    .dataframe tbody tr th:only-of-type {\n",
       "        vertical-align: middle;\n",
       "    }\n",
       "\n",
       "    .dataframe tbody tr th {\n",
       "        vertical-align: top;\n",
       "    }\n",
       "\n",
       "    .dataframe thead th {\n",
       "        text-align: right;\n",
       "    }\n",
       "</style>\n",
       "<table border=\"1\" class=\"dataframe\">\n",
       "  <thead>\n",
       "    <tr style=\"text-align: right;\">\n",
       "      <th></th>\n",
       "      <th>F1</th>\n",
       "      <th>Acc</th>\n",
       "    </tr>\n",
       "  </thead>\n",
       "  <tbody>\n",
       "    <tr>\n",
       "      <th>SFCN_seed_4_f0</th>\n",
       "      <td>0.757576</td>\n",
       "      <td>0.634286</td>\n",
       "    </tr>\n",
       "    <tr>\n",
       "      <th>SFCN_seed_4_f1</th>\n",
       "      <td>0.740741</td>\n",
       "      <td>0.600000</td>\n",
       "    </tr>\n",
       "    <tr>\n",
       "      <th>SFCN_seed_4_f2</th>\n",
       "      <td>0.743494</td>\n",
       "      <td>0.605714</td>\n",
       "    </tr>\n",
       "    <tr>\n",
       "      <th>SFCN_seed_4_f3</th>\n",
       "      <td>0.743494</td>\n",
       "      <td>0.605714</td>\n",
       "    </tr>\n",
       "    <tr>\n",
       "      <th>SFCN_seed_4_f4</th>\n",
       "      <td>0.769231</td>\n",
       "      <td>0.657143</td>\n",
       "    </tr>\n",
       "  </tbody>\n",
       "</table>\n",
       "</div>"
      ],
      "text/plain": [
       "                      F1       Acc\n",
       "SFCN_seed_4_f0  0.757576  0.634286\n",
       "SFCN_seed_4_f1  0.740741  0.600000\n",
       "SFCN_seed_4_f2  0.743494  0.605714\n",
       "SFCN_seed_4_f3  0.743494  0.605714\n",
       "SFCN_seed_4_f4  0.769231  0.657143"
      ]
     },
     "execution_count": 11,
     "metadata": {},
     "output_type": "execute_result"
    }
   ],
   "source": [
    "df = pd.DataFrame.from_dict(runmetrics).T\n",
    "mean_values = df.mean().round(4)\n",
    "std_values = df.std().round(4)\n",
    "mean_std = mean_values.astype(str) + \" ± \" + std_values.astype(str)\n",
    "# df.loc['mean ± std'] = mean_std\n",
    "df.head()"
   ]
  },
  {
   "cell_type": "code",
   "execution_count": 14,
   "metadata": {},
   "outputs": [
    {
     "name": "stdout",
     "output_type": "stream",
     "text": [
      "              F1_mean    F1_std  Acc_mean   Acc_std\n",
      "Seed                                               \n",
      "SFCN_seed_1  0.752064  0.018326  0.626286  0.036500\n",
      "SFCN_seed_2  0.745386  0.025825  0.616000  0.051333\n",
      "SFCN_seed_3  0.734965  0.017711  0.595429  0.035777\n",
      "SFCN_seed_4  0.750907  0.012181  0.620571  0.024445\n",
      "SFCN_seed_6  0.375895  0.396232  0.573714  0.165152\n"
     ]
    }
   ],
   "source": [
    "df['Seed'] = df.index.to_series().apply(lambda x: '_'.join(x.split('_')[:3]))\n",
    "summary_df = df.groupby('Seed').agg({'F1': ['mean', 'std'], 'Acc': ['mean', 'std']})\n",
    "summary_df.columns = ['_'.join(col) for col in summary_df.columns]\n",
    "print(summary_df)"
   ]
  }
 ],
 "metadata": {
  "kernelspec": {
   "display_name": "ninad",
   "language": "python",
   "name": "python3"
  },
  "language_info": {
   "codemirror_mode": {
    "name": "ipython",
    "version": 3
   },
   "file_extension": ".py",
   "mimetype": "text/x-python",
   "name": "python",
   "nbconvert_exporter": "python",
   "pygments_lexer": "ipython3",
   "version": "3.12.5"
  }
 },
 "nbformat": 4,
 "nbformat_minor": 2
}
